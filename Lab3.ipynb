{
 "cells": [
  {
   "cell_type": "code",
   "execution_count": 16,
   "id": "7b8a9734-613d-439c-a3a4-b710ef868c53",
   "metadata": {},
   "outputs": [
    {
     "data": {
      "text/html": [
       "<div>\n",
       "<style scoped>\n",
       "    .dataframe tbody tr th:only-of-type {\n",
       "        vertical-align: middle;\n",
       "    }\n",
       "\n",
       "    .dataframe tbody tr th {\n",
       "        vertical-align: top;\n",
       "    }\n",
       "\n",
       "    .dataframe thead th {\n",
       "        text-align: right;\n",
       "    }\n",
       "</style>\n",
       "<table border=\"1\" class=\"dataframe\">\n",
       "  <thead>\n",
       "    <tr style=\"text-align: right;\">\n",
       "      <th></th>\n",
       "      <th>Age</th>\n",
       "      <th>Gender</th>\n",
       "      <th>Education Level</th>\n",
       "      <th>Job Title</th>\n",
       "      <th>Years of Experience</th>\n",
       "      <th>Salary</th>\n",
       "    </tr>\n",
       "  </thead>\n",
       "  <tbody>\n",
       "    <tr>\n",
       "      <th>0</th>\n",
       "      <td>32</td>\n",
       "      <td>Male</td>\n",
       "      <td>Bachelor's</td>\n",
       "      <td>Software Engineer</td>\n",
       "      <td>5.0</td>\n",
       "      <td>90000</td>\n",
       "    </tr>\n",
       "    <tr>\n",
       "      <th>1</th>\n",
       "      <td>28</td>\n",
       "      <td>Female</td>\n",
       "      <td>Master's</td>\n",
       "      <td>Data Analyst</td>\n",
       "      <td>3.0</td>\n",
       "      <td>65000</td>\n",
       "    </tr>\n",
       "    <tr>\n",
       "      <th>2</th>\n",
       "      <td>45</td>\n",
       "      <td>Male</td>\n",
       "      <td>PhD</td>\n",
       "      <td>Senior Manager</td>\n",
       "      <td>15.0</td>\n",
       "      <td>150000</td>\n",
       "    </tr>\n",
       "    <tr>\n",
       "      <th>3</th>\n",
       "      <td>36</td>\n",
       "      <td>Female</td>\n",
       "      <td>Bachelor's</td>\n",
       "      <td>Sales Associate</td>\n",
       "      <td>7.0</td>\n",
       "      <td>60000</td>\n",
       "    </tr>\n",
       "    <tr>\n",
       "      <th>4</th>\n",
       "      <td>52</td>\n",
       "      <td>Male</td>\n",
       "      <td>Master's</td>\n",
       "      <td>Director</td>\n",
       "      <td>20.0</td>\n",
       "      <td>200000</td>\n",
       "    </tr>\n",
       "    <tr>\n",
       "      <th>...</th>\n",
       "      <td>...</td>\n",
       "      <td>...</td>\n",
       "      <td>...</td>\n",
       "      <td>...</td>\n",
       "      <td>...</td>\n",
       "      <td>...</td>\n",
       "    </tr>\n",
       "    <tr>\n",
       "      <th>368</th>\n",
       "      <td>35</td>\n",
       "      <td>Female</td>\n",
       "      <td>Bachelor's</td>\n",
       "      <td>Senior Marketing Analyst</td>\n",
       "      <td>8.0</td>\n",
       "      <td>85000</td>\n",
       "    </tr>\n",
       "    <tr>\n",
       "      <th>369</th>\n",
       "      <td>43</td>\n",
       "      <td>Male</td>\n",
       "      <td>Master's</td>\n",
       "      <td>Director of Operations</td>\n",
       "      <td>19.0</td>\n",
       "      <td>170000</td>\n",
       "    </tr>\n",
       "    <tr>\n",
       "      <th>370</th>\n",
       "      <td>29</td>\n",
       "      <td>Female</td>\n",
       "      <td>Bachelor's</td>\n",
       "      <td>Junior Project Manager</td>\n",
       "      <td>2.0</td>\n",
       "      <td>40000</td>\n",
       "    </tr>\n",
       "    <tr>\n",
       "      <th>371</th>\n",
       "      <td>34</td>\n",
       "      <td>Male</td>\n",
       "      <td>Bachelor's</td>\n",
       "      <td>Senior Operations Coordinator</td>\n",
       "      <td>7.0</td>\n",
       "      <td>90000</td>\n",
       "    </tr>\n",
       "    <tr>\n",
       "      <th>372</th>\n",
       "      <td>44</td>\n",
       "      <td>Female</td>\n",
       "      <td>PhD</td>\n",
       "      <td>Senior Business Analyst</td>\n",
       "      <td>15.0</td>\n",
       "      <td>150000</td>\n",
       "    </tr>\n",
       "  </tbody>\n",
       "</table>\n",
       "<p>373 rows × 6 columns</p>\n",
       "</div>"
      ],
      "text/plain": [
       "     Age  Gender Education Level                      Job Title  \\\n",
       "0     32    Male      Bachelor's              Software Engineer   \n",
       "1     28  Female        Master's                   Data Analyst   \n",
       "2     45    Male             PhD                 Senior Manager   \n",
       "3     36  Female      Bachelor's                Sales Associate   \n",
       "4     52    Male        Master's                       Director   \n",
       "..   ...     ...             ...                            ...   \n",
       "368   35  Female      Bachelor's       Senior Marketing Analyst   \n",
       "369   43    Male        Master's         Director of Operations   \n",
       "370   29  Female      Bachelor's         Junior Project Manager   \n",
       "371   34    Male      Bachelor's  Senior Operations Coordinator   \n",
       "372   44  Female             PhD        Senior Business Analyst   \n",
       "\n",
       "     Years of Experience  Salary  \n",
       "0                    5.0   90000  \n",
       "1                    3.0   65000  \n",
       "2                   15.0  150000  \n",
       "3                    7.0   60000  \n",
       "4                   20.0  200000  \n",
       "..                   ...     ...  \n",
       "368                  8.0   85000  \n",
       "369                 19.0  170000  \n",
       "370                  2.0   40000  \n",
       "371                  7.0   90000  \n",
       "372                 15.0  150000  \n",
       "\n",
       "[373 rows x 6 columns]"
      ]
     },
     "execution_count": 16,
     "metadata": {},
     "output_type": "execute_result"
    }
   ],
   "source": [
    "import pandas as pd\n",
    "import numpy as np\n",
    "import matplotlib.pyplot as plt\n",
    "\n",
    "salaryes = pd.read_csv('Salary-Data.csv')\n",
    "salaryes"
   ]
  },
  {
   "cell_type": "markdown",
   "id": "7bc26f92-954f-4f51-ad50-43d86dd9e8af",
   "metadata": {},
   "source": [
    "Допустим хотим зарплату(Salary) в зависимости от стажа(Years of Experience)"
   ]
  },
  {
   "cell_type": "markdown",
   "id": "9771a98b-911f-421e-b1c0-2558c5ac1525",
   "metadata": {},
   "source": [
    "Удалим все ненужные строки"
   ]
  },
  {
   "cell_type": "code",
   "execution_count": 17,
   "id": "40d2ec6b-6a03-458b-8654-baa4e1388632",
   "metadata": {},
   "outputs": [],
   "source": [
    "salaryes = salaryes.drop(columns=['Age', 'Gender', 'Education Level', 'Job Title'])"
   ]
  },
  {
   "cell_type": "code",
   "execution_count": 24,
   "id": "e7f58790-2120-4ea6-9f12-9be35bdb193e",
   "metadata": {},
   "outputs": [],
   "source": [
    "sortSalary = salaryes.sort_values(by=[\"Years of Experience\", \"Salary\"])"
   ]
  },
  {
   "cell_type": "code",
   "execution_count": 25,
   "id": "50532fed-91a4-42d0-955c-0770d57a8335",
   "metadata": {},
   "outputs": [
    {
     "data": {
      "text/plain": [
       "LinearRegression()"
      ]
     },
     "execution_count": 25,
     "metadata": {},
     "output_type": "execute_result"
    }
   ],
   "source": [
    "from sklearn.model_selection import train_test_split\n",
    "from sklearn.linear_model import LinearRegression\n",
    "from sklearn.metrics import confusion_matrix, ConfusionMatrixDisplay\n",
    "X_train, X_test, y_train, y_test = train_test_split(sortSalary['Years of Experience'], sortSalary['Salary'], test_size=0.2,\n",
    "                                                    random_state=42)\n",
    "X_train = X_train.values.reshape(-1,1)\n",
    "X_test = X_test.values.reshape(-1,1)\n",
    "model = LinearRegression()\n",
    "\n",
    "model.fit(X_train, y_train)"
   ]
  },
  {
   "cell_type": "code",
   "execution_count": null,
   "id": "eb85a3dd-6661-4506-b674-2deaabfc756c",
   "metadata": {},
   "outputs": [],
   "source": []
  },
  {
   "cell_type": "code",
   "execution_count": 27,
   "id": "5294dcaf-1baa-4843-b6e5-e5d8f2f80608",
   "metadata": {},
   "outputs": [
    {
     "data": {
      "image/png": "[encoded data removed]",
      "text/plain": [
       "<Figure size 1368x432 with 1 Axes>"
      ]
     },
     "metadata": {
      "needs_background": "light"
     },
     "output_type": "display_data"
    }
   ],
   "source": [
    "import matplotlib.pyplot as plt\n",
    "figure, ax = plt.subplots(figsize = (19, 6))\n",
    "ax.plot(sortSalary['Years of Experience'], sortSalary['Salary'], label='Dataset val')\n",
    "ax.plot(X_train, model.predict(X_train), label='Linear regression')\n",
    "#ax.plot(X_test, model.predict(X_test), label='Prediction')\n",
    "ax.legend()\n",
    "plt.show()"
   ]
  },
  {
   "cell_type": "markdown",
   "id": "4322fa3f-e95f-4803-b477-dae6ce3af335",
   "metadata": {},
   "source": [
    "Посчитаем метрику MAE"
   ]
  },
  {
   "cell_type": "code",
   "execution_count": 30,
   "id": "af884a7b-6aa1-4f69-b233-959a1cb5cb22",
   "metadata": {},
   "outputs": [
    {
     "name": "stdout",
     "output_type": "stream",
     "text": [
      "MAE = 11854.875271801238\n",
      "MSE = 263069914.52519003\n"
     ]
    }
   ],
   "source": [
    "from sklearn.metrics import mean_absolute_error\n",
    "from sklearn.metrics import mean_squared_error\n",
    "\n",
    "print(\"MAE = %s\" % mean_absolute_error(model.predict(X_test), y_test))\n",
    "print('MSE = %s' % mean_squared_error(model.predict(X_test), y_test))"
   ]
  },
  {
   "cell_type": "markdown",
   "id": "672098e8-1f21-4744-8721-0bb88db579f7",
   "metadata": {},
   "source": [
    "Ошибки такие большие т.к датасет достаточно неравномерный(зарплаты берутся по разным профессиям) и разница между ними большая..."
   ]
  },
  {
   "cell_type": "code",
   "execution_count": null,
   "id": "b24386c2-0a9a-47b7-88ce-5c9da03bfe52",
   "metadata": {},
   "outputs": [],
   "source": []
  }
 ],
 "metadata": {
  "kernelspec": {
   "display_name": "anaconda-2022.05-py39",
   "language": "python",
   "name": "conda-env-anaconda-2022.05-py39-py"
  },
  "language_info": {
   "codemirror_mode": {
    "name": "ipython",
    "version": 3
   },
   "file_extension": ".py",
   "mimetype": "text/x-python",
   "name": "python",
   "nbconvert_exporter": "python",
   "pygments_lexer": "ipython3",
   "version": "3.9.12"
  }
 },
 "nbformat": 4,
 "nbformat_minor": 5
}
